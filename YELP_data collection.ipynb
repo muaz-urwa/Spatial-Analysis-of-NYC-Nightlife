{
 "cells": [
  {
   "cell_type": "code",
   "execution_count": 1,
   "metadata": {},
   "outputs": [],
   "source": [
    "from __future__ import print_function\n",
    "\n",
    "import argparse\n",
    "import json\n",
    "import pprint\n",
    "import requests\n",
    "import sys\n",
    "import urllib"
   ]
  },
  {
   "cell_type": "code",
   "execution_count": 2,
   "metadata": {},
   "outputs": [],
   "source": [
    "try:\n",
    "    # For Python 3.0 and later\n",
    "    from urllib.error import HTTPError\n",
    "    from urllib.parse import quote\n",
    "    from urllib.parse import urlencode\n",
    "except ImportError:\n",
    "    # Fall back to Python 2's urllib2 and urllib\n",
    "    from urllib2 import HTTPError\n",
    "    from urllib import quote\n",
    "from urllib import urlencode"
   ]
  },
  {
   "cell_type": "code",
   "execution_count": 3,
   "metadata": {},
   "outputs": [],
   "source": [
    "import rauth"
   ]
  },
  {
   "cell_type": "code",
   "execution_count": 23,
   "metadata": {},
   "outputs": [],
   "source": [
    "#API_KEY = 'ae90aOVE_KXd0bPY8aSNPV0LvUdhfHfMuzSC8G0UH_ONoBGaLYOPSB1xZ8h9au9dp3reYFaca5N8G49gjll4FfY1CVYkBZv7A7Xkcg51KB7ahay7ADpmJAOz-LcFXHYx'"
   ]
  },
  {
   "cell_type": "code",
   "execution_count": 18,
   "metadata": {},
   "outputs": [],
   "source": [
    "API_KEY = 'DZStxM87nhXlJBL3JsvXK9KjzxLiuPktRXFX_cm4_debQ4j5W_lbGL_uaWDCYW2nzvGG1MpPN5lUUx03mGaVRWlOqhsuaFFf_AO1IgKStDtJYbwPK4pzFBbRNxL6W3Yx'"
   ]
  },
  {
   "cell_type": "code",
   "execution_count": 5,
   "metadata": {},
   "outputs": [],
   "source": [
    "# API constants, you shouldn't have to change these.\n",
    "API_HOST = 'https://api.yelp.com'\n",
    "SEARCH_PATH = '/v3/businesses/search'\n",
    "BUSINESS_PATH = '/v3/businesses/'  # Business ID will come after slash.\n",
    "EVENTS_PATH = '/v3/events'"
   ]
  },
  {
   "cell_type": "code",
   "execution_count": 7,
   "metadata": {},
   "outputs": [],
   "source": [
    "def request(host, path, api_key, url_params=None):\n",
    "    \"\"\"Given your API_KEY, send a GET request to the API.\n",
    "    Args:\n",
    "        host (str): The domain host of the API.\n",
    "        path (str): The path of the API after the domain.\n",
    "        API_KEY (str): Your API Key.\n",
    "        url_params (dict): An optional set of query parameters in the request.\n",
    "    Returns:\n",
    "        dict: The JSON response from the request.\n",
    "    Raises:\n",
    "        HTTPError: An error occurs from the HTTP request.\n",
    "    \"\"\"\n",
    "    url_params = url_params or {}\n",
    "    url = '{0}{1}'.format(host, quote(path.encode('utf8')))\n",
    "    headers = {\n",
    "        'Authorization': 'Bearer %s' % api_key,\n",
    "    }\n",
    "\n",
    "    print(u'Querying {0} ...'.format(url))\n",
    "\n",
    "    response = requests.request('GET', url, headers=headers, params=url_params)\n",
    "\n",
    "    return response.json()"
   ]
  },
  {
   "cell_type": "code",
   "execution_count": 22,
   "metadata": {},
   "outputs": [],
   "source": [
    "def search(api_key, term, location):\n",
    "    \"\"\"Query the Search API by a search term and location.\n",
    "    Args:\n",
    "        term (str): The search term passed to the API.\n",
    "        location (str): The search location passed to the API.\n",
    "    Returns:\n",
    "        dict: The JSON response from the request.\n",
    "    \"\"\"\n",
    "\n",
    "    url_params = {\n",
    "        'term': term.replace(' ', '+'),\n",
    "        'location': location.replace(' ', '+'),\n",
    "        'limit': SEARCH_LIMIT\n",
    "    }\n",
    "    return request(API_HOST, SEARCH_PATH, api_key, url_params=url_params)"
   ]
  },
  {
   "cell_type": "code",
   "execution_count": 9,
   "metadata": {},
   "outputs": [],
   "source": [
    "def get_business(api_key, business_id):\n",
    "    \"\"\"Query the Business API by a business ID.\n",
    "    Args:\n",
    "        business_id (str): The ID of the business to query.\n",
    "    Returns:\n",
    "        dict: The JSON response from the request.\n",
    "    \"\"\"\n",
    "    business_path = BUSINESS_PATH + business_id\n",
    "\n",
    "    return request(API_HOST, business_path, api_key)"
   ]
  },
  {
   "cell_type": "code",
   "execution_count": 10,
   "metadata": {},
   "outputs": [],
   "source": [
    "def query_api(term, location):\n",
    "    \"\"\"Queries the API by the input values from the user.\n",
    "    Args:\n",
    "        term (str): The search term to query.\n",
    "        location (str): The location of the business to query.\n",
    "    \"\"\"\n",
    "    response = search(API_KEY, term, location)\n",
    "\n",
    "    businesses = response.get('businesses')\n",
    "\n",
    "    if not businesses:\n",
    "        print(u'No businesses for {0} in {1} found.'.format(term, location))\n",
    "        return\n",
    "\n",
    "    business_id = businesses[0]['id']\n",
    "\n",
    "    print(u'{0} businesses found, querying business info ' \\\n",
    "        'for the top result \"{1}\" ...'.format(\n",
    "            len(businesses), business_id))\n",
    "    response = get_business(API_KEY, business_id)\n",
    "\n",
    "    print(u'Result for business \"{0}\" found:'.format(business_id))\n",
    "    pprint.pprint(response, indent=2)"
   ]
  },
  {
   "cell_type": "code",
   "execution_count": 11,
   "metadata": {},
   "outputs": [],
   "source": [
    "# Defaults for our simple example.\n",
    "DEFAULT_TERM = 'dinner'\n",
    "DEFAULT_LOCATION = 'San Francisco, CA'\n",
    "SEARCH_LIMIT = 50"
   ]
  },
  {
   "cell_type": "code",
   "execution_count": 12,
   "metadata": {},
   "outputs": [],
   "source": [
    "def search_event(start_date,end_date,latitude,longitude,categories):\n",
    "    \"\"\"Query the Search API by a search term and location.\n",
    "    Args:\n",
    "        term (str): The search term passed to the API.\n",
    "        location (str): The search location passed to the API.\n",
    "    Returns:\n",
    "        dict: The JSON response from the request.\n",
    "    \"\"\"\n",
    "\n",
    "    url_params = {\n",
    "        'start_date': start_date,\n",
    "        'end_date': end_date,\n",
    "        'latitude': latitude,\n",
    "        'longitude': longitude,\n",
    "        'categories': categories,\n",
    "        'limit': SEARCH_LIMIT\n",
    "    }\n",
    "    return request(API_HOST, EVENTS_PATH, API_KEY, url_params=url_params)"
   ]
  },
  {
   "cell_type": "code",
   "execution_count": 13,
   "metadata": {},
   "outputs": [],
   "source": [
    "from datetime import datetime, date\n",
    "def getUnix(dt):\n",
    "    return int((dt - datetime(1970,1,1)).total_seconds())"
   ]
  },
  {
   "cell_type": "code",
   "execution_count": 14,
   "metadata": {},
   "outputs": [],
   "source": [
    "start_date = getUnix( datetime(2018,11,25) )\n",
    "end_date = getUnix( datetime(2018,11,26) )\n",
    "latitude = 40.70544486444615\n",
    "longitude = -73.99429321289062\n",
    "categories = 'nightlife' "
   ]
  },
  {
   "cell_type": "code",
   "execution_count": 19,
   "metadata": {},
   "outputs": [
    {
     "name": "stdout",
     "output_type": "stream",
     "text": [
      "Querying https://api.yelp.com/v3/events ...\n"
     ]
    }
   ],
   "source": [
    "data = search_event(start_date,end_date,latitude,longitude,categories)"
   ]
  },
  {
   "cell_type": "code",
   "execution_count": 20,
   "metadata": {},
   "outputs": [
    {
     "data": {
      "text/plain": [
       "[u'total', u'events']"
      ]
     },
     "execution_count": 20,
     "metadata": {},
     "output_type": "execute_result"
    }
   ],
   "source": [
    "data.keys()"
   ]
  },
  {
   "cell_type": "code",
   "execution_count": 17,
   "metadata": {},
   "outputs": [
    {
     "data": {
      "text/plain": [
       "{u'code': u'NOT_IN_DEVELOPER_BETA',\n",
       " u'description': u'This endpoint requires you be in our developer beta. To join, visit your \"Manage App\" page and click the join beta button.'}"
      ]
     },
     "execution_count": 17,
     "metadata": {},
     "output_type": "execute_result"
    }
   ],
   "source": [
    "data['error']"
   ]
  },
  {
   "cell_type": "code",
   "execution_count": 95,
   "metadata": {},
   "outputs": [
    {
     "data": {
      "text/plain": [
       "[u'category',\n",
       " u'business_id',\n",
       " u'event_site_url',\n",
       " u'attending_count',\n",
       " u'time_start',\n",
       " u'description',\n",
       " u'location',\n",
       " u'cost_max',\n",
       " u'time_end',\n",
       " u'is_free',\n",
       " u'name',\n",
       " u'interested_count',\n",
       " u'cost',\n",
       " u'image_url',\n",
       " u'longitude',\n",
       " u'latitude',\n",
       " u'is_official',\n",
       " u'id',\n",
       " u'tickets_url',\n",
       " u'is_canceled']"
      ]
     },
     "execution_count": 95,
     "metadata": {},
     "output_type": "execute_result"
    }
   ],
   "source": [
    "data['events'][0].keys()"
   ]
  },
  {
   "cell_type": "code",
   "execution_count": 97,
   "metadata": {},
   "outputs": [
    {
     "data": {
      "text/plain": [
       "[u'Rock the Yacht: Friday Night Party Cruise',\n",
       " u'Rock the Yacht: Saturday Night Party Cruise',\n",
       " u\"Have You Brunch'd Lately? Brunch and Day Party Thanksgiving Weekend\"]"
      ]
     },
     "execution_count": 97,
     "metadata": {},
     "output_type": "execute_result"
    }
   ],
   "source": [
    "[d['name'] for d in data['events']]"
   ]
  },
  {
   "cell_type": "code",
   "execution_count": 101,
   "metadata": {},
   "outputs": [
    {
     "data": {
      "text/plain": [
       "[35.0, 35.0, None]"
      ]
     },
     "execution_count": 101,
     "metadata": {},
     "output_type": "execute_result"
    }
   ],
   "source": [
    "[d['cost'] for d in data['events']]"
   ]
  },
  {
   "cell_type": "code",
   "execution_count": null,
   "metadata": {},
   "outputs": [],
   "source": [
    "#search(api_key, term, location)"
   ]
  },
  {
   "cell_type": "code",
   "execution_count": null,
   "metadata": {},
   "outputs": [],
   "source": []
  },
  {
   "cell_type": "code",
   "execution_count": null,
   "metadata": {},
   "outputs": [],
   "source": []
  },
  {
   "cell_type": "code",
   "execution_count": null,
   "metadata": {},
   "outputs": [],
   "source": []
  },
  {
   "cell_type": "code",
   "execution_count": 24,
   "metadata": {},
   "outputs": [
    {
     "name": "stdout",
     "output_type": "stream",
     "text": [
      "Querying https://api.yelp.com/v3/businesses/search ...\n",
      "50 businesses found, querying business info for the top result \"4nZlMrDw-mrvmfEVT-cQrw\" ...\n",
      "Querying https://api.yelp.com/v3/businesses/4nZlMrDw-mrvmfEVT-cQrw ...\n",
      "Result for business \"4nZlMrDw-mrvmfEVT-cQrw\" found:\n",
      "{ u'alias': u'the-village-underground-new-york',\n",
      "  u'categories': [ { u'alias': u'danceclubs', u'title': u'Dance Clubs'},\n",
      "                   { u'alias': u'lounges', u'title': u'Lounges'},\n",
      "                   { u'alias': u'comedyclubs', u'title': u'Comedy Clubs'}],\n",
      "  u'coordinates': { u'latitude': 40.7306935670033,\n",
      "                    u'longitude': -74.0009226385494},\n",
      "  u'display_phone': u'(212) 777-7745',\n",
      "  u'hours': [ { u'hours_type': u'REGULAR',\n",
      "                u'is_open_now': True,\n",
      "                u'open': [ { u'day': 0,\n",
      "                             u'end': u'0400',\n",
      "                             u'is_overnight': True,\n",
      "                             u'start': u'2100'},\n",
      "                           { u'day': 1,\n",
      "                             u'end': u'0400',\n",
      "                             u'is_overnight': True,\n",
      "                             u'start': u'2100'},\n",
      "                           { u'day': 2,\n",
      "                             u'end': u'0400',\n",
      "                             u'is_overnight': True,\n",
      "                             u'start': u'2100'},\n",
      "                           { u'day': 3,\n",
      "                             u'end': u'0400',\n",
      "                             u'is_overnight': True,\n",
      "                             u'start': u'2100'},\n",
      "                           { u'day': 4,\n",
      "                             u'end': u'0400',\n",
      "                             u'is_overnight': True,\n",
      "                             u'start': u'2100'},\n",
      "                           { u'day': 5,\n",
      "                             u'end': u'0400',\n",
      "                             u'is_overnight': True,\n",
      "                             u'start': u'2100'},\n",
      "                           { u'day': 6,\n",
      "                             u'end': u'0400',\n",
      "                             u'is_overnight': True,\n",
      "                             u'start': u'2100'}]}],\n",
      "  u'id': u'4nZlMrDw-mrvmfEVT-cQrw',\n",
      "  u'image_url': u'https://s3-media2.fl.yelpcdn.com/bphoto/8lgffHoDk1bFcsI6i6lk7w/o.jpg',\n",
      "  u'is_claimed': True,\n",
      "  u'is_closed': False,\n",
      "  u'location': { u'address1': u'130 W 3rd St',\n",
      "                 u'address2': u'',\n",
      "                 u'address3': u'',\n",
      "                 u'city': u'New York',\n",
      "                 u'country': u'US',\n",
      "                 u'cross_streets': u'Mac Dougal St & Avenue Of The Americas',\n",
      "                 u'display_address': [u'130 W 3rd St', u'New York, NY 10012'],\n",
      "                 u'state': u'NY',\n",
      "                 u'zip_code': u'10012'},\n",
      "  u'name': u'The Village Underground',\n",
      "  u'phone': u'+12127777745',\n",
      "  u'photos': [ u'https://s3-media2.fl.yelpcdn.com/bphoto/8lgffHoDk1bFcsI6i6lk7w/o.jpg',\n",
      "               u'https://s3-media1.fl.yelpcdn.com/bphoto/EhxG5ikrun8saPi-cNO-Ig/o.jpg',\n",
      "               u'https://s3-media2.fl.yelpcdn.com/bphoto/21R6ZPNRSIjbA0392scThw/o.jpg'],\n",
      "  u'price': u'$$',\n",
      "  u'rating': 4.0,\n",
      "  u'review_count': 278,\n",
      "  u'transactions': [],\n",
      "  u'url': u'https://www.yelp.com/biz/the-village-underground-new-york?adjust_creative=PCedR3PBLu7UZ6s1WkRgGA&utm_campaign=yelp_api_v3&utm_medium=api_v3_business_lookup&utm_source=PCedR3PBLu7UZ6s1WkRgGA'}\n"
     ]
    }
   ],
   "source": [
    "query_api('night club', 'New York')"
   ]
  },
  {
   "cell_type": "code",
   "execution_count": 23,
   "metadata": {},
   "outputs": [
    {
     "name": "stdout",
     "output_type": "stream",
     "text": [
      "Querying https://api.yelp.com/v3/businesses/search ...\n"
     ]
    }
   ],
   "source": [
    "data = search(API_KEY, 'nightlife', 'new york')"
   ]
  },
  {
   "cell_type": "code",
   "execution_count": 27,
   "metadata": {},
   "outputs": [
    {
     "data": {
      "text/plain": [
       "[u'region', u'total', u'businesses']"
      ]
     },
     "execution_count": 27,
     "metadata": {},
     "output_type": "execute_result"
    }
   ],
   "source": [
    "data.keys()"
   ]
  },
  {
   "cell_type": "code",
   "execution_count": 33,
   "metadata": {},
   "outputs": [
    {
     "data": {
      "text/plain": [
       "[u'rating',\n",
       " u'review_count',\n",
       " u'name',\n",
       " u'transactions',\n",
       " u'url',\n",
       " u'price',\n",
       " u'distance',\n",
       " u'coordinates',\n",
       " u'alias',\n",
       " u'image_url',\n",
       " u'categories',\n",
       " u'display_phone',\n",
       " u'phone',\n",
       " u'id',\n",
       " u'is_closed',\n",
       " u'location']"
      ]
     },
     "execution_count": 33,
     "metadata": {},
     "output_type": "execute_result"
    }
   ],
   "source": [
    "data['businesses'][0].keys()"
   ]
  },
  {
   "cell_type": "code",
   "execution_count": 46,
   "metadata": {},
   "outputs": [
    {
     "data": {
      "text/plain": [
       "[u'Rooftop 93',\n",
       " u'Playboy Club NYC',\n",
       " u'River Lounge',\n",
       " u'The Village Underground',\n",
       " u'Manina',\n",
       " u'Red Rabbit Club',\n",
       " u'Anytime Karaoke',\n",
       " u'Saint Julivert',\n",
       " u'Mexicue',\n",
       " u'Boca Restaurant and Lounge',\n",
       " u'RIO Kitchen & Wine',\n",
       " u'101 Brooklyn',\n",
       " u'Bar314',\n",
       " u'A+ Roof Bar',\n",
       " u'Pier 17',\n",
       " u'Keybar',\n",
       " u\"Ada's Place\",\n",
       " u'The Living Room',\n",
       " u'Club Cumming',\n",
       " u'New York Comedy Club',\n",
       " u'Basement',\n",
       " u'Savor Por Favor',\n",
       " u'Ascent Lounge',\n",
       " u'Harlem Nights Bar',\n",
       " u'Our Wicked Lady',\n",
       " u'El Cacto',\n",
       " u'Boobie Trap',\n",
       " u'Minami Lounge',\n",
       " u'Mailroom',\n",
       " u'Dkalabash',\n",
       " u'The Ship',\n",
       " u'RFTP',\n",
       " u'The Wilson',\n",
       " u'Fusia',\n",
       " u'The 75 Club',\n",
       " u'Rumpus Room',\n",
       " u'Skyline Bar',\n",
       " u'Nittis',\n",
       " u'Iron Horse NYC',\n",
       " u\"Queen's Cabinet Bar & Lounge\",\n",
       " u'On Now Lounge',\n",
       " u\"e's BAR\",\n",
       " u'Post Bar',\n",
       " u'C Lounge Restaurant & Hookah Bar',\n",
       " u'Turntable Caf\\xe9 & Lounge',\n",
       " u'Luv Story Bar',\n",
       " u'Raines Law Room',\n",
       " u'Intersect by Lexus - NYC',\n",
       " u'Anotheroom',\n",
       " u'Bembe']"
      ]
     },
     "execution_count": 46,
     "metadata": {},
     "output_type": "execute_result"
    }
   ],
   "source": [
    "[b['name'] for b in data['businesses']]\n"
   ]
  },
  {
   "cell_type": "code",
   "execution_count": 44,
   "metadata": {},
   "outputs": [
    {
     "data": {
      "text/plain": [
       "u'$$'"
      ]
     },
     "execution_count": 44,
     "metadata": {},
     "output_type": "execute_result"
    }
   ],
   "source": [
    "data['businesses'][0]['price']"
   ]
  },
  {
   "cell_type": "code",
   "execution_count": 42,
   "metadata": {},
   "outputs": [
    {
     "data": {
      "text/plain": [
       "{u'center': {u'latitude': 40.70544486444615, u'longitude': -73.99429321289062}}"
      ]
     },
     "execution_count": 42,
     "metadata": {},
     "output_type": "execute_result"
    }
   ],
   "source": [
    "data['region']"
   ]
  },
  {
   "cell_type": "code",
   "execution_count": 45,
   "metadata": {},
   "outputs": [],
   "source": [
    "## radius parameter : The max value is 40000 meters (about 25 miles)."
   ]
  },
  {
   "cell_type": "code",
   "execution_count": null,
   "metadata": {},
   "outputs": [],
   "source": []
  }
 ],
 "metadata": {
  "kernelspec": {
   "display_name": "Python 2",
   "language": "python",
   "name": "python2"
  },
  "language_info": {
   "codemirror_mode": {
    "name": "ipython",
    "version": 2
   },
   "file_extension": ".py",
   "mimetype": "text/x-python",
   "name": "python",
   "nbconvert_exporter": "python",
   "pygments_lexer": "ipython2",
   "version": "2.7.15"
  }
 },
 "nbformat": 4,
 "nbformat_minor": 2
}
