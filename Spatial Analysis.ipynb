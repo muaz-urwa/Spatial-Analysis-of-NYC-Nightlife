{
 "cells": [
  {
   "cell_type": "code",
   "execution_count": 9,
   "metadata": {},
   "outputs": [],
   "source": [
    "import geopandas as gpd\n",
    "import pandas as pd\n",
    "import shapely\n",
    "import matplotlib.pyplot as plt\n",
    "%matplotlib inline\n",
    "import numpy as np\n",
    "import pylab as pl"
   ]
  },
  {
   "cell_type": "code",
   "execution_count": 2,
   "metadata": {},
   "outputs": [],
   "source": [
    "filename = \"allData/DataByPuma.shp\""
   ]
  },
  {
   "cell_type": "code",
   "execution_count": 3,
   "metadata": {},
   "outputs": [],
   "source": [
    "data = gpd.GeoDataFrame.from_file(filename)"
   ]
  },
  {
   "cell_type": "code",
   "execution_count": 4,
   "metadata": {},
   "outputs": [
    {
     "data": {
      "text/plain": [
       "{'init': u'epsg:4326'}"
      ]
     },
     "execution_count": 4,
     "metadata": {},
     "output_type": "execute_result"
    }
   ],
   "source": [
    "data.crs"
   ]
  },
  {
   "cell_type": "code",
   "execution_count": 5,
   "metadata": {},
   "outputs": [
    {
     "data": {
      "text/html": [
       "<div>\n",
       "<style scoped>\n",
       "    .dataframe tbody tr th:only-of-type {\n",
       "        vertical-align: middle;\n",
       "    }\n",
       "\n",
       "    .dataframe tbody tr th {\n",
       "        vertical-align: top;\n",
       "    }\n",
       "\n",
       "    .dataframe thead th {\n",
       "        text-align: right;\n",
       "    }\n",
       "</style>\n",
       "<table border=\"1\" class=\"dataframe\">\n",
       "  <thead>\n",
       "    <tr style=\"text-align: right;\">\n",
       "      <th></th>\n",
       "      <th>puma</th>\n",
       "      <th>GeogName</th>\n",
       "      <th>GeoID</th>\n",
       "      <th>Borough</th>\n",
       "      <th>Population</th>\n",
       "      <th>totalHouse</th>\n",
       "      <th>CollegeStu</th>\n",
       "      <th>Immigrants</th>\n",
       "      <th>Highschool</th>\n",
       "      <th>unemployed</th>\n",
       "      <th>avgHouseIn</th>\n",
       "      <th>num_calls</th>\n",
       "      <th>review_cou</th>\n",
       "      <th>price</th>\n",
       "      <th>rating</th>\n",
       "      <th>PartyCount</th>\n",
       "      <th>geometry</th>\n",
       "    </tr>\n",
       "  </thead>\n",
       "  <tbody>\n",
       "    <tr>\n",
       "      <th>0</th>\n",
       "      <td>3701</td>\n",
       "      <td>NYC-Bronx Community District 8--Riverdale, Fie...</td>\n",
       "      <td>3701</td>\n",
       "      <td>Bronx</td>\n",
       "      <td>109810</td>\n",
       "      <td>41718</td>\n",
       "      <td>14443</td>\n",
       "      <td>16220</td>\n",
       "      <td>4460</td>\n",
       "      <td>5242</td>\n",
       "      <td>81929</td>\n",
       "      <td>373</td>\n",
       "      <td>1162</td>\n",
       "      <td>1.578947</td>\n",
       "      <td>3.763158</td>\n",
       "      <td>17</td>\n",
       "      <td>POLYGON ((-73.89641133483133 40.90450452082026...</td>\n",
       "    </tr>\n",
       "    <tr>\n",
       "      <th>1</th>\n",
       "      <td>3702</td>\n",
       "      <td>NYC-Bronx Community District 12--Wakefield, Wi...</td>\n",
       "      <td>3702</td>\n",
       "      <td>Bronx</td>\n",
       "      <td>144341</td>\n",
       "      <td>47817</td>\n",
       "      <td>6696</td>\n",
       "      <td>22155</td>\n",
       "      <td>8672</td>\n",
       "      <td>9502</td>\n",
       "      <td>61428</td>\n",
       "      <td>435</td>\n",
       "      <td>163</td>\n",
       "      <td>2.166667</td>\n",
       "      <td>2.638889</td>\n",
       "      <td>1</td>\n",
       "      <td>POLYGON ((-73.8442314689986 40.86942035096838,...</td>\n",
       "    </tr>\n",
       "  </tbody>\n",
       "</table>\n",
       "</div>"
      ],
      "text/plain": [
       "   puma                                           GeogName  GeoID Borough  \\\n",
       "0  3701  NYC-Bronx Community District 8--Riverdale, Fie...   3701   Bronx   \n",
       "1  3702  NYC-Bronx Community District 12--Wakefield, Wi...   3702   Bronx   \n",
       "\n",
       "   Population  totalHouse  CollegeStu  Immigrants  Highschool  unemployed  \\\n",
       "0      109810       41718       14443       16220        4460        5242   \n",
       "1      144341       47817        6696       22155        8672        9502   \n",
       "\n",
       "   avgHouseIn  num_calls  review_cou     price    rating  PartyCount  \\\n",
       "0       81929        373        1162  1.578947  3.763158          17   \n",
       "1       61428        435         163  2.166667  2.638889           1   \n",
       "\n",
       "                                            geometry  \n",
       "0  POLYGON ((-73.89641133483133 40.90450452082026...  \n",
       "1  POLYGON ((-73.8442314689986 40.86942035096838,...  "
      ]
     },
     "execution_count": 5,
     "metadata": {},
     "output_type": "execute_result"
    }
   ],
   "source": [
    "data.head(2)"
   ]
  },
  {
   "cell_type": "code",
   "execution_count": 6,
   "metadata": {},
   "outputs": [
    {
     "data": {
      "text/html": [
       "<div>\n",
       "<style scoped>\n",
       "    .dataframe tbody tr th:only-of-type {\n",
       "        vertical-align: middle;\n",
       "    }\n",
       "\n",
       "    .dataframe tbody tr th {\n",
       "        vertical-align: top;\n",
       "    }\n",
       "\n",
       "    .dataframe thead th {\n",
       "        text-align: right;\n",
       "    }\n",
       "</style>\n",
       "<table border=\"1\" class=\"dataframe\">\n",
       "  <thead>\n",
       "    <tr style=\"text-align: right;\">\n",
       "      <th></th>\n",
       "      <th>puma</th>\n",
       "      <th>GeoID</th>\n",
       "      <th>Population</th>\n",
       "      <th>totalHouse</th>\n",
       "      <th>CollegeStu</th>\n",
       "      <th>Immigrants</th>\n",
       "      <th>Highschool</th>\n",
       "      <th>unemployed</th>\n",
       "      <th>avgHouseIn</th>\n",
       "      <th>num_calls</th>\n",
       "      <th>review_cou</th>\n",
       "      <th>price</th>\n",
       "      <th>rating</th>\n",
       "      <th>PartyCount</th>\n",
       "    </tr>\n",
       "  </thead>\n",
       "  <tbody>\n",
       "    <tr>\n",
       "      <th>puma</th>\n",
       "      <td>1.000000</td>\n",
       "      <td>1.000000</td>\n",
       "      <td>0.096039</td>\n",
       "      <td>-0.121676</td>\n",
       "      <td>-0.114552</td>\n",
       "      <td>0.176901</td>\n",
       "      <td>0.005764</td>\n",
       "      <td>-0.181792</td>\n",
       "      <td>-0.029715</td>\n",
       "      <td>-0.082832</td>\n",
       "      <td>-0.183000</td>\n",
       "      <td>0.084435</td>\n",
       "      <td>0.003608</td>\n",
       "      <td>0.113420</td>\n",
       "    </tr>\n",
       "    <tr>\n",
       "      <th>GeoID</th>\n",
       "      <td>1.000000</td>\n",
       "      <td>1.000000</td>\n",
       "      <td>0.096039</td>\n",
       "      <td>-0.121676</td>\n",
       "      <td>-0.114552</td>\n",
       "      <td>0.176901</td>\n",
       "      <td>0.005764</td>\n",
       "      <td>-0.181792</td>\n",
       "      <td>-0.029715</td>\n",
       "      <td>-0.082832</td>\n",
       "      <td>-0.183000</td>\n",
       "      <td>0.084435</td>\n",
       "      <td>0.003608</td>\n",
       "      <td>0.113420</td>\n",
       "    </tr>\n",
       "    <tr>\n",
       "      <th>Population</th>\n",
       "      <td>0.096039</td>\n",
       "      <td>0.096039</td>\n",
       "      <td>1.000000</td>\n",
       "      <td>0.716879</td>\n",
       "      <td>0.272483</td>\n",
       "      <td>0.576480</td>\n",
       "      <td>0.534624</td>\n",
       "      <td>0.510642</td>\n",
       "      <td>0.137825</td>\n",
       "      <td>0.157436</td>\n",
       "      <td>0.072043</td>\n",
       "      <td>0.003948</td>\n",
       "      <td>0.115334</td>\n",
       "      <td>-0.004431</td>\n",
       "    </tr>\n",
       "    <tr>\n",
       "      <th>totalHouse</th>\n",
       "      <td>-0.121676</td>\n",
       "      <td>-0.121676</td>\n",
       "      <td>0.716879</td>\n",
       "      <td>1.000000</td>\n",
       "      <td>0.800118</td>\n",
       "      <td>0.215613</td>\n",
       "      <td>-0.100164</td>\n",
       "      <td>0.119089</td>\n",
       "      <td>0.648065</td>\n",
       "      <td>0.458160</td>\n",
       "      <td>0.510770</td>\n",
       "      <td>0.232750</td>\n",
       "      <td>0.185112</td>\n",
       "      <td>0.192195</td>\n",
       "    </tr>\n",
       "    <tr>\n",
       "      <th>CollegeStu</th>\n",
       "      <td>-0.114552</td>\n",
       "      <td>-0.114552</td>\n",
       "      <td>0.272483</td>\n",
       "      <td>0.800118</td>\n",
       "      <td>1.000000</td>\n",
       "      <td>-0.139280</td>\n",
       "      <td>-0.531506</td>\n",
       "      <td>-0.282824</td>\n",
       "      <td>0.923985</td>\n",
       "      <td>0.387026</td>\n",
       "      <td>0.496962</td>\n",
       "      <td>0.359141</td>\n",
       "      <td>0.239896</td>\n",
       "      <td>0.206729</td>\n",
       "    </tr>\n",
       "    <tr>\n",
       "      <th>Immigrants</th>\n",
       "      <td>0.176901</td>\n",
       "      <td>0.176901</td>\n",
       "      <td>0.576480</td>\n",
       "      <td>0.215613</td>\n",
       "      <td>-0.139280</td>\n",
       "      <td>1.000000</td>\n",
       "      <td>0.360203</td>\n",
       "      <td>0.379598</td>\n",
       "      <td>-0.260310</td>\n",
       "      <td>0.013562</td>\n",
       "      <td>-0.097226</td>\n",
       "      <td>-0.096252</td>\n",
       "      <td>0.001803</td>\n",
       "      <td>0.149429</td>\n",
       "    </tr>\n",
       "    <tr>\n",
       "      <th>Highschool</th>\n",
       "      <td>0.005764</td>\n",
       "      <td>0.005764</td>\n",
       "      <td>0.534624</td>\n",
       "      <td>-0.100164</td>\n",
       "      <td>-0.531506</td>\n",
       "      <td>0.360203</td>\n",
       "      <td>1.000000</td>\n",
       "      <td>0.630102</td>\n",
       "      <td>-0.594416</td>\n",
       "      <td>-0.379120</td>\n",
       "      <td>-0.510380</td>\n",
       "      <td>-0.324292</td>\n",
       "      <td>-0.129052</td>\n",
       "      <td>-0.360612</td>\n",
       "    </tr>\n",
       "    <tr>\n",
       "      <th>unemployed</th>\n",
       "      <td>-0.181792</td>\n",
       "      <td>-0.181792</td>\n",
       "      <td>0.510642</td>\n",
       "      <td>0.119089</td>\n",
       "      <td>-0.282824</td>\n",
       "      <td>0.379598</td>\n",
       "      <td>0.630102</td>\n",
       "      <td>1.000000</td>\n",
       "      <td>-0.406913</td>\n",
       "      <td>0.056058</td>\n",
       "      <td>-0.128426</td>\n",
       "      <td>-0.162969</td>\n",
       "      <td>-0.082686</td>\n",
       "      <td>-0.001301</td>\n",
       "    </tr>\n",
       "    <tr>\n",
       "      <th>avgHouseIn</th>\n",
       "      <td>-0.029715</td>\n",
       "      <td>-0.029715</td>\n",
       "      <td>0.137825</td>\n",
       "      <td>0.648065</td>\n",
       "      <td>0.923985</td>\n",
       "      <td>-0.260310</td>\n",
       "      <td>-0.594416</td>\n",
       "      <td>-0.406913</td>\n",
       "      <td>1.000000</td>\n",
       "      <td>0.361646</td>\n",
       "      <td>0.498809</td>\n",
       "      <td>0.340012</td>\n",
       "      <td>0.230696</td>\n",
       "      <td>0.206340</td>\n",
       "    </tr>\n",
       "    <tr>\n",
       "      <th>num_calls</th>\n",
       "      <td>-0.082832</td>\n",
       "      <td>-0.082832</td>\n",
       "      <td>0.157436</td>\n",
       "      <td>0.458160</td>\n",
       "      <td>0.387026</td>\n",
       "      <td>0.013562</td>\n",
       "      <td>-0.379120</td>\n",
       "      <td>0.056058</td>\n",
       "      <td>0.361646</td>\n",
       "      <td>1.000000</td>\n",
       "      <td>0.908949</td>\n",
       "      <td>0.062314</td>\n",
       "      <td>0.154883</td>\n",
       "      <td>0.561587</td>\n",
       "    </tr>\n",
       "    <tr>\n",
       "      <th>review_cou</th>\n",
       "      <td>-0.183000</td>\n",
       "      <td>-0.183000</td>\n",
       "      <td>0.072043</td>\n",
       "      <td>0.510770</td>\n",
       "      <td>0.496962</td>\n",
       "      <td>-0.097226</td>\n",
       "      <td>-0.510380</td>\n",
       "      <td>-0.128426</td>\n",
       "      <td>0.498809</td>\n",
       "      <td>0.908949</td>\n",
       "      <td>1.000000</td>\n",
       "      <td>0.174344</td>\n",
       "      <td>0.127118</td>\n",
       "      <td>0.430144</td>\n",
       "    </tr>\n",
       "    <tr>\n",
       "      <th>price</th>\n",
       "      <td>0.084435</td>\n",
       "      <td>0.084435</td>\n",
       "      <td>0.003948</td>\n",
       "      <td>0.232750</td>\n",
       "      <td>0.359141</td>\n",
       "      <td>-0.096252</td>\n",
       "      <td>-0.324292</td>\n",
       "      <td>-0.162969</td>\n",
       "      <td>0.340012</td>\n",
       "      <td>0.062314</td>\n",
       "      <td>0.174344</td>\n",
       "      <td>1.000000</td>\n",
       "      <td>-0.238530</td>\n",
       "      <td>0.002467</td>\n",
       "    </tr>\n",
       "    <tr>\n",
       "      <th>rating</th>\n",
       "      <td>0.003608</td>\n",
       "      <td>0.003608</td>\n",
       "      <td>0.115334</td>\n",
       "      <td>0.185112</td>\n",
       "      <td>0.239896</td>\n",
       "      <td>0.001803</td>\n",
       "      <td>-0.129052</td>\n",
       "      <td>-0.082686</td>\n",
       "      <td>0.230696</td>\n",
       "      <td>0.154883</td>\n",
       "      <td>0.127118</td>\n",
       "      <td>-0.238530</td>\n",
       "      <td>1.000000</td>\n",
       "      <td>0.099297</td>\n",
       "    </tr>\n",
       "    <tr>\n",
       "      <th>PartyCount</th>\n",
       "      <td>0.113420</td>\n",
       "      <td>0.113420</td>\n",
       "      <td>-0.004431</td>\n",
       "      <td>0.192195</td>\n",
       "      <td>0.206729</td>\n",
       "      <td>0.149429</td>\n",
       "      <td>-0.360612</td>\n",
       "      <td>-0.001301</td>\n",
       "      <td>0.206340</td>\n",
       "      <td>0.561587</td>\n",
       "      <td>0.430144</td>\n",
       "      <td>0.002467</td>\n",
       "      <td>0.099297</td>\n",
       "      <td>1.000000</td>\n",
       "    </tr>\n",
       "  </tbody>\n",
       "</table>\n",
       "</div>"
      ],
      "text/plain": [
       "                puma     GeoID  Population  totalHouse  CollegeStu  \\\n",
       "puma        1.000000  1.000000    0.096039   -0.121676   -0.114552   \n",
       "GeoID       1.000000  1.000000    0.096039   -0.121676   -0.114552   \n",
       "Population  0.096039  0.096039    1.000000    0.716879    0.272483   \n",
       "totalHouse -0.121676 -0.121676    0.716879    1.000000    0.800118   \n",
       "CollegeStu -0.114552 -0.114552    0.272483    0.800118    1.000000   \n",
       "Immigrants  0.176901  0.176901    0.576480    0.215613   -0.139280   \n",
       "Highschool  0.005764  0.005764    0.534624   -0.100164   -0.531506   \n",
       "unemployed -0.181792 -0.181792    0.510642    0.119089   -0.282824   \n",
       "avgHouseIn -0.029715 -0.029715    0.137825    0.648065    0.923985   \n",
       "num_calls  -0.082832 -0.082832    0.157436    0.458160    0.387026   \n",
       "review_cou -0.183000 -0.183000    0.072043    0.510770    0.496962   \n",
       "price       0.084435  0.084435    0.003948    0.232750    0.359141   \n",
       "rating      0.003608  0.003608    0.115334    0.185112    0.239896   \n",
       "PartyCount  0.113420  0.113420   -0.004431    0.192195    0.206729   \n",
       "\n",
       "            Immigrants  Highschool  unemployed  avgHouseIn  num_calls  \\\n",
       "puma          0.176901    0.005764   -0.181792   -0.029715  -0.082832   \n",
       "GeoID         0.176901    0.005764   -0.181792   -0.029715  -0.082832   \n",
       "Population    0.576480    0.534624    0.510642    0.137825   0.157436   \n",
       "totalHouse    0.215613   -0.100164    0.119089    0.648065   0.458160   \n",
       "CollegeStu   -0.139280   -0.531506   -0.282824    0.923985   0.387026   \n",
       "Immigrants    1.000000    0.360203    0.379598   -0.260310   0.013562   \n",
       "Highschool    0.360203    1.000000    0.630102   -0.594416  -0.379120   \n",
       "unemployed    0.379598    0.630102    1.000000   -0.406913   0.056058   \n",
       "avgHouseIn   -0.260310   -0.594416   -0.406913    1.000000   0.361646   \n",
       "num_calls     0.013562   -0.379120    0.056058    0.361646   1.000000   \n",
       "review_cou   -0.097226   -0.510380   -0.128426    0.498809   0.908949   \n",
       "price        -0.096252   -0.324292   -0.162969    0.340012   0.062314   \n",
       "rating        0.001803   -0.129052   -0.082686    0.230696   0.154883   \n",
       "PartyCount    0.149429   -0.360612   -0.001301    0.206340   0.561587   \n",
       "\n",
       "            review_cou     price    rating  PartyCount  \n",
       "puma         -0.183000  0.084435  0.003608    0.113420  \n",
       "GeoID        -0.183000  0.084435  0.003608    0.113420  \n",
       "Population    0.072043  0.003948  0.115334   -0.004431  \n",
       "totalHouse    0.510770  0.232750  0.185112    0.192195  \n",
       "CollegeStu    0.496962  0.359141  0.239896    0.206729  \n",
       "Immigrants   -0.097226 -0.096252  0.001803    0.149429  \n",
       "Highschool   -0.510380 -0.324292 -0.129052   -0.360612  \n",
       "unemployed   -0.128426 -0.162969 -0.082686   -0.001301  \n",
       "avgHouseIn    0.498809  0.340012  0.230696    0.206340  \n",
       "num_calls     0.908949  0.062314  0.154883    0.561587  \n",
       "review_cou    1.000000  0.174344  0.127118    0.430144  \n",
       "price         0.174344  1.000000 -0.238530    0.002467  \n",
       "rating        0.127118 -0.238530  1.000000    0.099297  \n",
       "PartyCount    0.430144  0.002467  0.099297    1.000000  "
      ]
     },
     "execution_count": 6,
     "metadata": {},
     "output_type": "execute_result"
    }
   ],
   "source": [
    "data.corr()"
   ]
  },
  {
   "cell_type": "code",
   "execution_count": 66,
   "metadata": {},
   "outputs": [],
   "source": [
    "import seaborn as sns"
   ]
  },
  {
   "cell_type": "code",
   "execution_count": 70,
   "metadata": {},
   "outputs": [
    {
     "name": "stdout",
     "output_type": "stream",
     "text": [
      "['puma', 'GeogName', 'GeoID', 'Borough', 'Population', 'totalHouse', 'CollegeStu', 'Immigrants', 'Highschool', 'unemployed', 'avgHouseIn', 'num_calls', 'review_cou', 'price', 'rating', 'PartyCount', 'geometry']\n"
     ]
    }
   ],
   "source": [
    "print([str(d) for d in data.columns])"
   ]
  },
  {
   "cell_type": "code",
   "execution_count": 71,
   "metadata": {},
   "outputs": [],
   "source": [
    "selectcols = ['Population', 'totalHouse', 'CollegeStu', 'Immigrants', 'Highschool', 'unemployed', 'avgHouseIn', 'num_calls', 'review_cou', 'price', 'rating', 'PartyCount']"
   ]
  },
  {
   "cell_type": "code",
   "execution_count": 73,
   "metadata": {},
   "outputs": [
    {
     "data": {
      "image/png": "[encoded data removed]",
      "text/plain": [
       "<matplotlib.figure.Figure at 0x7f4d58d0ee10>"
      ]
     },
     "metadata": {
      "needs_background": "light"
     },
     "output_type": "display_data"
    }
   ],
   "source": [
    "corr = data[selectcols].corr()\n",
    "\n",
    "# Generate a mask for the upper triangle\n",
    "mask = np.zeros_like(corr, dtype=np.bool)\n",
    "mask[np.triu_indices_from(mask)] = True\n",
    "\n",
    "# Set up the matplotlib figure\n",
    "f, ax = plt.subplots(figsize=(15, 9))\n",
    "\n",
    "# Generate a custom diverging colormap\n",
    "cmap = sns.mpl_palette(\"seismic\", 8)\n",
    "\n",
    "# Draw the heatmap with the mask and correct aspect ratio\n",
    "_ = sns.heatmap(corr, mask=mask, cmap=cmap, vmax=.3, center=0,\n",
    "            square=True, linewidths=.5, cbar_kws={\"shrink\": .5})"
   ]
  },
  {
   "cell_type": "code",
   "execution_count": 10,
   "metadata": {},
   "outputs": [
    {
     "name": "stderr",
     "output_type": "stream",
     "text": [
      "/home/urwa/miniconda3/envs/usa/lib/python2.7/site-packages/pysal/__init__.py:65: VisibleDeprecationWarning: PySAL's API will be changed on 2018-12-31. The last release made with this API is version 1.14.4. A preview of the next API version is provided in the `pysal` 2.0 prelease candidate. The API changes and a guide on how to change imports is provided at https://migrating.pysal.org\n",
      "  ), VisibleDeprecationWarning)\n"
     ]
    }
   ],
   "source": [
    "import pysal as ps"
   ]
  },
  {
   "cell_type": "code",
   "execution_count": 11,
   "metadata": {},
   "outputs": [],
   "source": [
    "qW_CT = ps.weights.Queen.from_dataframe(data)"
   ]
  },
  {
   "cell_type": "code",
   "execution_count": 12,
   "metadata": {},
   "outputs": [],
   "source": [
    "# weight matrix\n",
    "Wmatrix, ids = qW_CT.full()"
   ]
  },
  {
   "cell_type": "code",
   "execution_count": 13,
   "metadata": {},
   "outputs": [],
   "source": [
    "#Change the matrix to be row-standardized\n",
    "qW_CT.transform = 'r'\n"
   ]
  },
  {
   "cell_type": "code",
   "execution_count": 21,
   "metadata": {},
   "outputs": [
    {
     "data": {
      "text/plain": [
       "<matplotlib.colorbar.Colorbar at 0x7f4d49f7cf90>"
      ]
     },
     "execution_count": 21,
     "metadata": {},
     "output_type": "execute_result"
    },
    {
     "data": {
      "image/png": "[encoded data removed]",
      "text/plain": [
       "<matplotlib.figure.Figure at 0x7f4d4a1c04d0>"
      ]
     },
     "metadata": {
      "needs_background": "light"
     },
     "output_type": "display_data"
    }
   ],
   "source": [
    "#visualize weights matrix\n",
    "plt.subplots(figsize=(10, 10))\n",
    "pl.imshow(qW_CT.full()[0])\n",
    "pl.colorbar(ticks=[0,1])"
   ]
  },
  {
   "cell_type": "code",
   "execution_count": 57,
   "metadata": {},
   "outputs": [],
   "source": [
    "calls=data.PartyCount\n",
    "I_calls = ps.Moran(calls, qW_CT)"
   ]
  },
  {
   "cell_type": "code",
   "execution_count": 65,
   "metadata": {},
   "outputs": [],
   "source": [
    "ps.Moran?"
   ]
  },
  {
   "cell_type": "code",
   "execution_count": 59,
   "metadata": {},
   "outputs": [
    {
     "data": {
      "text/plain": [
       "0.26640595172883158"
      ]
     },
     "execution_count": 59,
     "metadata": {},
     "output_type": "execute_result"
    }
   ],
   "source": [
    "I_calls.I"
   ]
  },
  {
   "cell_type": "code",
   "execution_count": 60,
   "metadata": {},
   "outputs": [
    {
     "data": {
      "text/plain": [
       "-0.018518518518518517"
      ]
     },
     "execution_count": 60,
     "metadata": {},
     "output_type": "execute_result"
    }
   ],
   "source": [
    "I_calls.EI"
   ]
  },
  {
   "cell_type": "code",
   "execution_count": 61,
   "metadata": {},
   "outputs": [
    {
     "data": {
      "text/plain": [
       "0.0012684641689355569"
      ]
     },
     "execution_count": 61,
     "metadata": {},
     "output_type": "execute_result"
    }
   ],
   "source": [
    "I_calls.p_rand"
   ]
  },
  {
   "cell_type": "code",
   "execution_count": 62,
   "metadata": {},
   "outputs": [
    {
     "data": {
      "text/plain": [
       "3.2230206317568273"
      ]
     },
     "execution_count": 62,
     "metadata": {},
     "output_type": "execute_result"
    }
   ],
   "source": [
    "I_calls.z_rand"
   ]
  },
  {
   "cell_type": "code",
   "execution_count": 23,
   "metadata": {},
   "outputs": [],
   "source": [
    "p = data.num_calls"
   ]
  },
  {
   "cell_type": "code",
   "execution_count": 24,
   "metadata": {},
   "outputs": [
    {
     "data": {
      "image/png": "[encoded data removed]",
      "text/plain": [
       "<matplotlib.figure.Figure at 0x7fb71db5c110>"
      ]
     },
     "metadata": {
      "needs_background": "light"
     },
     "output_type": "display_data"
    }
   ],
   "source": [
    "# Morans I plot\n",
    "\n",
    "# Spatial Lag\n",
    "pLag=ps.lag_spatial(qW_CT, p)\n",
    "\n",
    "b,a = np.polyfit(p, pLag, 1)\n",
    "b,a  # b here is Morans I\n",
    "\n",
    "#Morans I plot\n",
    "f, ax = plt.subplots(1, figsize=(9, 9))\n",
    "\n",
    "plt.plot(p, pLag, '.', color='firebrick')\n",
    "\n",
    "# dashed vert at mean of the last year's PCI\n",
    "plt.vlines(p.mean(), pLag.min(), pLag.max(), linestyle='--')\n",
    " # dashed horizontal at mean of lagged PCI\n",
    "plt.hlines(pLag.mean(), p.min(), p.max(), linestyle='--')\n",
    "\n",
    "# red line of best fit using global I as slope\n",
    "plt.plot(p, a + b*p, 'r')\n",
    "plt.title('Moran Scatterplot',fontsize = 25)\n",
    "plt.ylabel('Spatial Lag of Noise Complaints', fontsize = 20)\n",
    "plt.xlabel('Noise Complaints', fontsize = 20);"
   ]
  },
  {
   "cell_type": "code",
   "execution_count": 42,
   "metadata": {},
   "outputs": [
    {
     "data": {
      "text/plain": [
       "-0.054839050129394981"
      ]
     },
     "execution_count": 42,
     "metadata": {},
     "output_type": "execute_result"
    }
   ],
   "source": [
    "b"
   ]
  },
  {
   "cell_type": "markdown",
   "metadata": {},
   "source": [
    "## Regression "
   ]
  },
  {
   "cell_type": "code",
   "execution_count": 75,
   "metadata": {},
   "outputs": [],
   "source": [
    "import statsmodels.api as sm\n",
    "import statsmodels.formula.api as smf\n"
   ]
  },
  {
   "cell_type": "code",
   "execution_count": 77,
   "metadata": {},
   "outputs": [
    {
     "data": {
      "text/plain": [
       "'PartyCount~Population+totalHouse+CollegeStu+Immigrants+Highschool+unemployed+avgHouseIn+num_calls+review_cou+price+rating'"
      ]
     },
     "execution_count": 77,
     "metadata": {},
     "output_type": "execute_result"
    }
   ],
   "source": [
    "formula = 'PartyCount~'+'+'.join([c for c in selectcols if c not in ['PartyCount'] ])\n",
    "formula"
   ]
  },
  {
   "cell_type": "code",
   "execution_count": 79,
   "metadata": {},
   "outputs": [],
   "source": [
    "# multivariate regrssion\n",
    "mod = smf.ols(formula=formula, data = data).fit()"
   ]
  },
  {
   "cell_type": "code",
   "execution_count": 80,
   "metadata": {},
   "outputs": [
    {
     "name": "stdout",
     "output_type": "stream",
     "text": [
      "                            OLS Regression Results                            \n",
      "==============================================================================\n",
      "Dep. Variable:             PartyCount   R-squared:                       0.487\n",
      "Model:                            OLS   Adj. R-squared:                  0.356\n",
      "Method:                 Least Squares   F-statistic:                     3.716\n",
      "Date:                Mon, 26 Nov 2018   Prob (F-statistic):           0.000916\n",
      "Time:                        01:20:36   Log-Likelihood:                -187.97\n",
      "No. Observations:                  55   AIC:                             399.9\n",
      "Df Residuals:                      43   BIC:                             424.0\n",
      "Df Model:                          11                                         \n",
      "Covariance Type:            nonrobust                                         \n",
      "==============================================================================\n",
      "                 coef    std err          t      P>|t|      [0.025      0.975]\n",
      "------------------------------------------------------------------------------\n",
      "Intercept      5.3097     21.733      0.244      0.808     -38.518      49.138\n",
      "Population    -0.0002      0.000     -0.929      0.358      -0.000       0.000\n",
      "totalHouse     0.0004      0.000      1.078      0.287      -0.000       0.001\n",
      "CollegeStu    -0.0004      0.000     -1.141      0.260      -0.001       0.000\n",
      "Immigrants     0.0002      0.000      1.648      0.107   -5.36e-05       0.001\n",
      "Highschool    -0.0012      0.001     -0.838      0.406      -0.004       0.002\n",
      "unemployed     0.0003      0.001      0.388      0.700      -0.001       0.002\n",
      "avgHouseIn     0.0001      0.000      1.146      0.258   -8.87e-05       0.000\n",
      "num_calls      0.0058      0.002      3.514      0.001       0.002       0.009\n",
      "review_cou    -0.0007      0.000     -2.410      0.020      -0.001      -0.000\n",
      "price         -1.8675      7.136     -0.262      0.795     -16.258      12.523\n",
      "rating        -0.2588      2.509     -0.103      0.918      -5.319       4.801\n",
      "==============================================================================\n",
      "Omnibus:                       21.011   Durbin-Watson:                   2.308\n",
      "Prob(Omnibus):                  0.000   Jarque-Bera (JB):               30.401\n",
      "Skew:                           1.355   Prob(JB):                     2.50e-07\n",
      "Kurtosis:                       5.434   Cond. No.                     3.82e+06\n",
      "==============================================================================\n",
      "\n",
      "Warnings:\n",
      "[1] Standard Errors assume that the covariance matrix of the errors is correctly specified.\n",
      "[2] The condition number is large, 3.82e+06. This might indicate that there are\n",
      "strong multicollinearity or other numerical problems.\n"
     ]
    }
   ],
   "source": [
    "print(mod.summary())"
   ]
  },
  {
   "cell_type": "code",
   "execution_count": null,
   "metadata": {},
   "outputs": [],
   "source": []
  }
 ],
 "metadata": {
  "kernelspec": {
   "display_name": "Python 2",
   "language": "python",
   "name": "python2"
  },
  "language_info": {
   "codemirror_mode": {
    "name": "ipython",
    "version": 2
   },
   "file_extension": ".py",
   "mimetype": "text/x-python",
   "name": "python",
   "nbconvert_exporter": "python",
   "pygments_lexer": "ipython2",
   "version": "2.7.15"
  }
 },
 "nbformat": 4,
 "nbformat_minor": 2
}
