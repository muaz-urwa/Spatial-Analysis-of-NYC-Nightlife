{
 "cells": [
  {
   "cell_type": "code",
   "execution_count": 95,
   "metadata": {},
   "outputs": [],
   "source": [
    "import geopandas as gpd\n",
    "import pandas as pd\n",
    "import shapely\n",
    "import matplotlib.pyplot as plt\n",
    "%matplotlib inline\n",
    "import numpy as np"
   ]
  },
  {
   "cell_type": "code",
   "execution_count": 136,
   "metadata": {},
   "outputs": [],
   "source": [
    "demographic = pd.read_excel('pumadata.xlsx')"
   ]
  },
  {
   "cell_type": "code",
   "execution_count": 137,
   "metadata": {},
   "outputs": [
    {
     "data": {
      "text/html": [
       "<div>\n",
       "<style scoped>\n",
       "    .dataframe tbody tr th:only-of-type {\n",
       "        vertical-align: middle;\n",
       "    }\n",
       "\n",
       "    .dataframe tbody tr th {\n",
       "        vertical-align: top;\n",
       "    }\n",
       "\n",
       "    .dataframe thead th {\n",
       "        text-align: right;\n",
       "    }\n",
       "</style>\n",
       "<table border=\"1\" class=\"dataframe\">\n",
       "  <thead>\n",
       "    <tr style=\"text-align: right;\">\n",
       "      <th></th>\n",
       "      <th>GeoType</th>\n",
       "      <th>GeogName</th>\n",
       "      <th>GeoID</th>\n",
       "      <th>Borough</th>\n",
       "      <th>Pop_1E</th>\n",
       "      <th>Pop_1M</th>\n",
       "      <th>Pop_1C</th>\n",
       "      <th>Pop_1P</th>\n",
       "      <th>Pop_1Z</th>\n",
       "      <th>MaleE</th>\n",
       "      <th>...</th>\n",
       "      <th>AsnOAsnE</th>\n",
       "      <th>AsnOAsnM</th>\n",
       "      <th>AsnOAsnC</th>\n",
       "      <th>AsnOAsnP</th>\n",
       "      <th>AsnOAsnZ</th>\n",
       "      <th>Asn2plE</th>\n",
       "      <th>Asn2plM</th>\n",
       "      <th>Asn2plC</th>\n",
       "      <th>Asn2plP</th>\n",
       "      <th>Asn2plZ</th>\n",
       "    </tr>\n",
       "  </thead>\n",
       "  <tbody>\n",
       "    <tr>\n",
       "      <th>0</th>\n",
       "      <td>PUMA2010</td>\n",
       "      <td>NYC-Bronx Community District 8--Riverdale, Fie...</td>\n",
       "      <td>3701</td>\n",
       "      <td>Bronx</td>\n",
       "      <td>109810</td>\n",
       "      <td>2134</td>\n",
       "      <td>1.2</td>\n",
       "      <td>100</td>\n",
       "      <td>NaN</td>\n",
       "      <td>51891</td>\n",
       "      <td>...</td>\n",
       "      <td>50</td>\n",
       "      <td>80.0</td>\n",
       "      <td>97.3</td>\n",
       "      <td>0.9</td>\n",
       "      <td>1.4</td>\n",
       "      <td>67</td>\n",
       "      <td>54.0</td>\n",
       "      <td>49.0</td>\n",
       "      <td>1.2</td>\n",
       "      <td>0.9</td>\n",
       "    </tr>\n",
       "    <tr>\n",
       "      <th>1</th>\n",
       "      <td>PUMA2010</td>\n",
       "      <td>NYC-Bronx Community District 12--Wakefield, Wi...</td>\n",
       "      <td>3702</td>\n",
       "      <td>Bronx</td>\n",
       "      <td>144341</td>\n",
       "      <td>2521</td>\n",
       "      <td>1.1</td>\n",
       "      <td>100</td>\n",
       "      <td>NaN</td>\n",
       "      <td>66103</td>\n",
       "      <td>...</td>\n",
       "      <td>11</td>\n",
       "      <td>13.0</td>\n",
       "      <td>71.8</td>\n",
       "      <td>0.3</td>\n",
       "      <td>0.3</td>\n",
       "      <td>11</td>\n",
       "      <td>17.0</td>\n",
       "      <td>93.9</td>\n",
       "      <td>0.3</td>\n",
       "      <td>0.4</td>\n",
       "    </tr>\n",
       "    <tr>\n",
       "      <th>2</th>\n",
       "      <td>PUMA2010</td>\n",
       "      <td>NYC-Bronx Community District 10--Co-op City, P...</td>\n",
       "      <td>3703</td>\n",
       "      <td>Bronx</td>\n",
       "      <td>122417</td>\n",
       "      <td>2742</td>\n",
       "      <td>1.4</td>\n",
       "      <td>100</td>\n",
       "      <td>NaN</td>\n",
       "      <td>56139</td>\n",
       "      <td>...</td>\n",
       "      <td>17</td>\n",
       "      <td>28.0</td>\n",
       "      <td>100.1</td>\n",
       "      <td>0.5</td>\n",
       "      <td>0.8</td>\n",
       "      <td>65</td>\n",
       "      <td>62.0</td>\n",
       "      <td>58.0</td>\n",
       "      <td>1.8</td>\n",
       "      <td>1.7</td>\n",
       "    </tr>\n",
       "  </tbody>\n",
       "</table>\n",
       "<p>3 rows × 484 columns</p>\n",
       "</div>"
      ],
      "text/plain": [
       "    GeoType                                           GeogName  GeoID Borough  \\\n",
       "0  PUMA2010  NYC-Bronx Community District 8--Riverdale, Fie...   3701   Bronx   \n",
       "1  PUMA2010  NYC-Bronx Community District 12--Wakefield, Wi...   3702   Bronx   \n",
       "2  PUMA2010  NYC-Bronx Community District 10--Co-op City, P...   3703   Bronx   \n",
       "\n",
       "   Pop_1E  Pop_1M  Pop_1C  Pop_1P  Pop_1Z  MaleE   ...     AsnOAsnE  AsnOAsnM  \\\n",
       "0  109810    2134     1.2     100     NaN  51891   ...           50      80.0   \n",
       "1  144341    2521     1.1     100     NaN  66103   ...           11      13.0   \n",
       "2  122417    2742     1.4     100     NaN  56139   ...           17      28.0   \n",
       "\n",
       "   AsnOAsnC  AsnOAsnP  AsnOAsnZ  Asn2plE  Asn2plM  Asn2plC  Asn2plP  Asn2plZ  \n",
       "0      97.3       0.9       1.4       67     54.0     49.0      1.2      0.9  \n",
       "1      71.8       0.3       0.3       11     17.0     93.9      0.3      0.4  \n",
       "2     100.1       0.5       0.8       65     62.0     58.0      1.8      1.7  \n",
       "\n",
       "[3 rows x 484 columns]"
      ]
     },
     "execution_count": 137,
     "metadata": {},
     "output_type": "execute_result"
    }
   ],
   "source": [
    "demographic.head(3)"
   ]
  },
  {
   "cell_type": "code",
   "execution_count": 138,
   "metadata": {},
   "outputs": [],
   "source": [
    "demographic = demographic[['GeogName','GeoID','Borough','Pop_1E']]\n",
    "demographic.columns = ['GeogName','GeoID','Borough','Population']"
   ]
  },
  {
   "cell_type": "code",
   "execution_count": 140,
   "metadata": {},
   "outputs": [],
   "source": [
    "#sum(demographic.Pop_1E)"
   ]
  },
  {
   "cell_type": "code",
   "execution_count": null,
   "metadata": {},
   "outputs": [],
   "source": [
    "# Pop_1 : popolation\n",
    "# "
   ]
  },
  {
   "cell_type": "code",
   "execution_count": 141,
   "metadata": {},
   "outputs": [],
   "source": [
    "soc = pd.read_excel('soc.xlsx')"
   ]
  },
  {
   "cell_type": "code",
   "execution_count": 142,
   "metadata": {},
   "outputs": [
    {
     "data": {
      "text/html": [
       "<div>\n",
       "<style scoped>\n",
       "    .dataframe tbody tr th:only-of-type {\n",
       "        vertical-align: middle;\n",
       "    }\n",
       "\n",
       "    .dataframe tbody tr th {\n",
       "        vertical-align: top;\n",
       "    }\n",
       "\n",
       "    .dataframe thead th {\n",
       "        text-align: right;\n",
       "    }\n",
       "</style>\n",
       "<table border=\"1\" class=\"dataframe\">\n",
       "  <thead>\n",
       "    <tr style=\"text-align: right;\">\n",
       "      <th></th>\n",
       "      <th>GeoID</th>\n",
       "      <th>totalHouseholds</th>\n",
       "      <th>CollegeStudents</th>\n",
       "      <th>Immigrants</th>\n",
       "      <th>Highschoolers</th>\n",
       "    </tr>\n",
       "  </thead>\n",
       "  <tbody>\n",
       "    <tr>\n",
       "      <th>0</th>\n",
       "      <td>3701</td>\n",
       "      <td>41718</td>\n",
       "      <td>14443</td>\n",
       "      <td>16220</td>\n",
       "      <td>4460</td>\n",
       "    </tr>\n",
       "    <tr>\n",
       "      <th>1</th>\n",
       "      <td>3702</td>\n",
       "      <td>47817</td>\n",
       "      <td>6696</td>\n",
       "      <td>22155</td>\n",
       "      <td>8672</td>\n",
       "    </tr>\n",
       "    <tr>\n",
       "      <th>2</th>\n",
       "      <td>3703</td>\n",
       "      <td>47134</td>\n",
       "      <td>8736</td>\n",
       "      <td>8470</td>\n",
       "      <td>5463</td>\n",
       "    </tr>\n",
       "    <tr>\n",
       "      <th>3</th>\n",
       "      <td>3704</td>\n",
       "      <td>43954</td>\n",
       "      <td>8210</td>\n",
       "      <td>21900</td>\n",
       "      <td>7348</td>\n",
       "    </tr>\n",
       "    <tr>\n",
       "      <th>4</th>\n",
       "      <td>3705</td>\n",
       "      <td>56633</td>\n",
       "      <td>3357</td>\n",
       "      <td>31498</td>\n",
       "      <td>12585</td>\n",
       "    </tr>\n",
       "  </tbody>\n",
       "</table>\n",
       "</div>"
      ],
      "text/plain": [
       "   GeoID  totalHouseholds  CollegeStudents  Immigrants  Highschoolers\n",
       "0   3701            41718            14443       16220           4460\n",
       "1   3702            47817             6696       22155           8672\n",
       "2   3703            47134             8736        8470           5463\n",
       "3   3704            43954             8210       21900           7348\n",
       "4   3705            56633             3357       31498          12585"
      ]
     },
     "execution_count": 142,
     "metadata": {},
     "output_type": "execute_result"
    }
   ],
   "source": [
    "# households, collegestudents, non US, Highschool\n",
    "soc = soc[['GeoID','HH1E','EA_GrdPfDE','FbNotCznE','SE_G9t12E']]\n",
    "soc.columns = ['GeoID','totalHouseholds','CollegeStudents','Immigrants','Highschoolers']\n",
    "soc.head()"
   ]
  },
  {
   "cell_type": "code",
   "execution_count": null,
   "metadata": {},
   "outputs": [],
   "source": []
  },
  {
   "cell_type": "code",
   "execution_count": 143,
   "metadata": {},
   "outputs": [],
   "source": [
    "econ = pd.read_excel('econ.xlsx')"
   ]
  },
  {
   "cell_type": "code",
   "execution_count": 144,
   "metadata": {},
   "outputs": [
    {
     "data": {
      "text/html": [
       "<div>\n",
       "<style scoped>\n",
       "    .dataframe tbody tr th:only-of-type {\n",
       "        vertical-align: middle;\n",
       "    }\n",
       "\n",
       "    .dataframe tbody tr th {\n",
       "        vertical-align: top;\n",
       "    }\n",
       "\n",
       "    .dataframe thead th {\n",
       "        text-align: right;\n",
       "    }\n",
       "</style>\n",
       "<table border=\"1\" class=\"dataframe\">\n",
       "  <thead>\n",
       "    <tr style=\"text-align: right;\">\n",
       "      <th></th>\n",
       "      <th>GeoID</th>\n",
       "      <th>unemployed</th>\n",
       "      <th>avgHouseIncome</th>\n",
       "    </tr>\n",
       "  </thead>\n",
       "  <tbody>\n",
       "    <tr>\n",
       "      <th>0</th>\n",
       "      <td>3701</td>\n",
       "      <td>5242</td>\n",
       "      <td>81929</td>\n",
       "    </tr>\n",
       "    <tr>\n",
       "      <th>1</th>\n",
       "      <td>3702</td>\n",
       "      <td>9502</td>\n",
       "      <td>61428</td>\n",
       "    </tr>\n",
       "    <tr>\n",
       "      <th>2</th>\n",
       "      <td>3703</td>\n",
       "      <td>5492</td>\n",
       "      <td>72072</td>\n",
       "    </tr>\n",
       "    <tr>\n",
       "      <th>3</th>\n",
       "      <td>3704</td>\n",
       "      <td>7863</td>\n",
       "      <td>62896</td>\n",
       "    </tr>\n",
       "    <tr>\n",
       "      <th>4</th>\n",
       "      <td>3705</td>\n",
       "      <td>11306</td>\n",
       "      <td>36166</td>\n",
       "    </tr>\n",
       "  </tbody>\n",
       "</table>\n",
       "</div>"
      ],
      "text/plain": [
       "   GeoID  unemployed  avgHouseIncome\n",
       "0   3701        5242           81929\n",
       "1   3702        9502           61428\n",
       "2   3703        5492           72072\n",
       "3   3704        7863           62896\n",
       "4   3705       11306           36166"
      ]
     },
     "execution_count": 144,
     "metadata": {},
     "output_type": "execute_result"
    }
   ],
   "source": [
    "# unemployed, meanIncomehousehold, non US, Highschool\n",
    "econ = econ[['GeoID','CvLFUEm1E','MnHHIncE']]\n",
    "econ.columns = ['GeoID','unemployed','avgHouseIncome']\n",
    "econ.head()"
   ]
  },
  {
   "cell_type": "code",
   "execution_count": 145,
   "metadata": {},
   "outputs": [],
   "source": [
    "pumaData = demographic.merge(soc,left_on='GeoID', right_on='GeoID', how='inner')\n",
    "pumaData = pumaData.merge(econ,left_on='GeoID', right_on='GeoID', how='inner')"
   ]
  },
  {
   "cell_type": "code",
   "execution_count": 146,
   "metadata": {},
   "outputs": [
    {
     "data": {
      "text/html": [
       "<div>\n",
       "<style scoped>\n",
       "    .dataframe tbody tr th:only-of-type {\n",
       "        vertical-align: middle;\n",
       "    }\n",
       "\n",
       "    .dataframe tbody tr th {\n",
       "        vertical-align: top;\n",
       "    }\n",
       "\n",
       "    .dataframe thead th {\n",
       "        text-align: right;\n",
       "    }\n",
       "</style>\n",
       "<table border=\"1\" class=\"dataframe\">\n",
       "  <thead>\n",
       "    <tr style=\"text-align: right;\">\n",
       "      <th></th>\n",
       "      <th>GeogName</th>\n",
       "      <th>GeoID</th>\n",
       "      <th>Borough</th>\n",
       "      <th>Population</th>\n",
       "      <th>totalHouseholds</th>\n",
       "      <th>CollegeStudents</th>\n",
       "      <th>Immigrants</th>\n",
       "      <th>Highschoolers</th>\n",
       "      <th>unemployed</th>\n",
       "      <th>avgHouseIncome</th>\n",
       "    </tr>\n",
       "  </thead>\n",
       "  <tbody>\n",
       "    <tr>\n",
       "      <th>0</th>\n",
       "      <td>NYC-Bronx Community District 8--Riverdale, Fie...</td>\n",
       "      <td>3701</td>\n",
       "      <td>Bronx</td>\n",
       "      <td>109810</td>\n",
       "      <td>41718</td>\n",
       "      <td>14443</td>\n",
       "      <td>16220</td>\n",
       "      <td>4460</td>\n",
       "      <td>5242</td>\n",
       "      <td>81929</td>\n",
       "    </tr>\n",
       "    <tr>\n",
       "      <th>1</th>\n",
       "      <td>NYC-Bronx Community District 12--Wakefield, Wi...</td>\n",
       "      <td>3702</td>\n",
       "      <td>Bronx</td>\n",
       "      <td>144341</td>\n",
       "      <td>47817</td>\n",
       "      <td>6696</td>\n",
       "      <td>22155</td>\n",
       "      <td>8672</td>\n",
       "      <td>9502</td>\n",
       "      <td>61428</td>\n",
       "    </tr>\n",
       "    <tr>\n",
       "      <th>2</th>\n",
       "      <td>NYC-Bronx Community District 10--Co-op City, P...</td>\n",
       "      <td>3703</td>\n",
       "      <td>Bronx</td>\n",
       "      <td>122417</td>\n",
       "      <td>47134</td>\n",
       "      <td>8736</td>\n",
       "      <td>8470</td>\n",
       "      <td>5463</td>\n",
       "      <td>5492</td>\n",
       "      <td>72072</td>\n",
       "    </tr>\n",
       "    <tr>\n",
       "      <th>3</th>\n",
       "      <td>NYC-Bronx Community District 11--Pelham Parkwa...</td>\n",
       "      <td>3704</td>\n",
       "      <td>Bronx</td>\n",
       "      <td>129501</td>\n",
       "      <td>43954</td>\n",
       "      <td>8210</td>\n",
       "      <td>21900</td>\n",
       "      <td>7348</td>\n",
       "      <td>7863</td>\n",
       "      <td>62896</td>\n",
       "    </tr>\n",
       "    <tr>\n",
       "      <th>4</th>\n",
       "      <td>NYC-Bronx Community District 3 &amp; 6--Belmont, C...</td>\n",
       "      <td>3705</td>\n",
       "      <td>Bronx</td>\n",
       "      <td>171849</td>\n",
       "      <td>56633</td>\n",
       "      <td>3357</td>\n",
       "      <td>31498</td>\n",
       "      <td>12585</td>\n",
       "      <td>11306</td>\n",
       "      <td>36166</td>\n",
       "    </tr>\n",
       "  </tbody>\n",
       "</table>\n",
       "</div>"
      ],
      "text/plain": [
       "                                            GeogName  GeoID Borough  \\\n",
       "0  NYC-Bronx Community District 8--Riverdale, Fie...   3701   Bronx   \n",
       "1  NYC-Bronx Community District 12--Wakefield, Wi...   3702   Bronx   \n",
       "2  NYC-Bronx Community District 10--Co-op City, P...   3703   Bronx   \n",
       "3  NYC-Bronx Community District 11--Pelham Parkwa...   3704   Bronx   \n",
       "4  NYC-Bronx Community District 3 & 6--Belmont, C...   3705   Bronx   \n",
       "\n",
       "   Population  totalHouseholds  CollegeStudents  Immigrants  Highschoolers  \\\n",
       "0      109810            41718            14443       16220           4460   \n",
       "1      144341            47817             6696       22155           8672   \n",
       "2      122417            47134             8736        8470           5463   \n",
       "3      129501            43954             8210       21900           7348   \n",
       "4      171849            56633             3357       31498          12585   \n",
       "\n",
       "   unemployed  avgHouseIncome  \n",
       "0        5242           81929  \n",
       "1        9502           61428  \n",
       "2        5492           72072  \n",
       "3        7863           62896  \n",
       "4       11306           36166  "
      ]
     },
     "execution_count": 146,
     "metadata": {},
     "output_type": "execute_result"
    }
   ],
   "source": [
    "pumaData.head()"
   ]
  },
  {
   "cell_type": "code",
   "execution_count": 147,
   "metadata": {},
   "outputs": [],
   "source": [
    "pumaData.GeoID = pumaData.GeoID.astype(int)"
   ]
  },
  {
   "cell_type": "code",
   "execution_count": 148,
   "metadata": {},
   "outputs": [],
   "source": [
    "shapeFilePath= 'puma/geo_export_a271959f-d135-40b7-aca2-b79e414a0ecb.shp'"
   ]
  },
  {
   "cell_type": "code",
   "execution_count": 149,
   "metadata": {},
   "outputs": [],
   "source": [
    "pumasSHP = gpd.GeoDataFrame.from_file(shapeFilePath)"
   ]
  },
  {
   "cell_type": "code",
   "execution_count": 150,
   "metadata": {},
   "outputs": [
    {
     "data": {
      "text/plain": [
       "{'init': u'epsg:4326'}"
      ]
     },
     "execution_count": 150,
     "metadata": {},
     "output_type": "execute_result"
    }
   ],
   "source": [
    "pumasSHP.crs"
   ]
  },
  {
   "cell_type": "code",
   "execution_count": 151,
   "metadata": {},
   "outputs": [],
   "source": [
    "pumasSHP = pumasSHP[['puma','geometry']]"
   ]
  },
  {
   "cell_type": "code",
   "execution_count": 152,
   "metadata": {},
   "outputs": [],
   "source": [
    "pumasSHP['puma'] = pumasSHP.puma.astype(int)"
   ]
  },
  {
   "cell_type": "code",
   "execution_count": 153,
   "metadata": {},
   "outputs": [],
   "source": [
    "pumaGDF = pumasSHP.merge(pumaData,left_on='puma', right_on='GeoID', how='inner')"
   ]
  },
  {
   "cell_type": "code",
   "execution_count": 154,
   "metadata": {},
   "outputs": [
    {
     "data": {
      "text/html": [
       "<div>\n",
       "<style scoped>\n",
       "    .dataframe tbody tr th:only-of-type {\n",
       "        vertical-align: middle;\n",
       "    }\n",
       "\n",
       "    .dataframe tbody tr th {\n",
       "        vertical-align: top;\n",
       "    }\n",
       "\n",
       "    .dataframe thead th {\n",
       "        text-align: right;\n",
       "    }\n",
       "</style>\n",
       "<table border=\"1\" class=\"dataframe\">\n",
       "  <thead>\n",
       "    <tr style=\"text-align: right;\">\n",
       "      <th></th>\n",
       "      <th>puma</th>\n",
       "      <th>geometry</th>\n",
       "      <th>GeogName</th>\n",
       "      <th>GeoID</th>\n",
       "      <th>Borough</th>\n",
       "      <th>Population</th>\n",
       "      <th>totalHouseholds</th>\n",
       "      <th>CollegeStudents</th>\n",
       "      <th>Immigrants</th>\n",
       "      <th>Highschoolers</th>\n",
       "      <th>unemployed</th>\n",
       "      <th>avgHouseIncome</th>\n",
       "    </tr>\n",
       "  </thead>\n",
       "  <tbody>\n",
       "    <tr>\n",
       "      <th>0</th>\n",
       "      <td>3701</td>\n",
       "      <td>POLYGON ((-73.89641133483133 40.90450452082026...</td>\n",
       "      <td>NYC-Bronx Community District 8--Riverdale, Fie...</td>\n",
       "      <td>3701</td>\n",
       "      <td>Bronx</td>\n",
       "      <td>109810</td>\n",
       "      <td>41718</td>\n",
       "      <td>14443</td>\n",
       "      <td>16220</td>\n",
       "      <td>4460</td>\n",
       "      <td>5242</td>\n",
       "      <td>81929</td>\n",
       "    </tr>\n",
       "    <tr>\n",
       "      <th>1</th>\n",
       "      <td>3702</td>\n",
       "      <td>POLYGON ((-73.8442314689986 40.86942035096838,...</td>\n",
       "      <td>NYC-Bronx Community District 12--Wakefield, Wi...</td>\n",
       "      <td>3702</td>\n",
       "      <td>Bronx</td>\n",
       "      <td>144341</td>\n",
       "      <td>47817</td>\n",
       "      <td>6696</td>\n",
       "      <td>22155</td>\n",
       "      <td>8672</td>\n",
       "      <td>9502</td>\n",
       "      <td>61428</td>\n",
       "    </tr>\n",
       "    <tr>\n",
       "      <th>2</th>\n",
       "      <td>3703</td>\n",
       "      <td>(POLYGON ((-73.78833349834532 40.8346671297593...</td>\n",
       "      <td>NYC-Bronx Community District 10--Co-op City, P...</td>\n",
       "      <td>3703</td>\n",
       "      <td>Bronx</td>\n",
       "      <td>122417</td>\n",
       "      <td>47134</td>\n",
       "      <td>8736</td>\n",
       "      <td>8470</td>\n",
       "      <td>5463</td>\n",
       "      <td>5492</td>\n",
       "      <td>72072</td>\n",
       "    </tr>\n",
       "    <tr>\n",
       "      <th>3</th>\n",
       "      <td>3704</td>\n",
       "      <td>POLYGON ((-73.84792614069238 40.8713422330779,...</td>\n",
       "      <td>NYC-Bronx Community District 11--Pelham Parkwa...</td>\n",
       "      <td>3704</td>\n",
       "      <td>Bronx</td>\n",
       "      <td>129501</td>\n",
       "      <td>43954</td>\n",
       "      <td>8210</td>\n",
       "      <td>21900</td>\n",
       "      <td>7348</td>\n",
       "      <td>7863</td>\n",
       "      <td>62896</td>\n",
       "    </tr>\n",
       "    <tr>\n",
       "      <th>4</th>\n",
       "      <td>4015</td>\n",
       "      <td>POLYGON ((-73.95374853778468 40.63858633758547...</td>\n",
       "      <td>NYC-Brooklyn Community District 14--Flatbush &amp;...</td>\n",
       "      <td>4015</td>\n",
       "      <td>Brooklyn</td>\n",
       "      <td>162030</td>\n",
       "      <td>57115</td>\n",
       "      <td>15391</td>\n",
       "      <td>28929</td>\n",
       "      <td>8529</td>\n",
       "      <td>6843</td>\n",
       "      <td>69462</td>\n",
       "    </tr>\n",
       "  </tbody>\n",
       "</table>\n",
       "</div>"
      ],
      "text/plain": [
       "   puma                                           geometry  \\\n",
       "0  3701  POLYGON ((-73.89641133483133 40.90450452082026...   \n",
       "1  3702  POLYGON ((-73.8442314689986 40.86942035096838,...   \n",
       "2  3703  (POLYGON ((-73.78833349834532 40.8346671297593...   \n",
       "3  3704  POLYGON ((-73.84792614069238 40.8713422330779,...   \n",
       "4  4015  POLYGON ((-73.95374853778468 40.63858633758547...   \n",
       "\n",
       "                                            GeogName  GeoID   Borough  \\\n",
       "0  NYC-Bronx Community District 8--Riverdale, Fie...   3701     Bronx   \n",
       "1  NYC-Bronx Community District 12--Wakefield, Wi...   3702     Bronx   \n",
       "2  NYC-Bronx Community District 10--Co-op City, P...   3703     Bronx   \n",
       "3  NYC-Bronx Community District 11--Pelham Parkwa...   3704     Bronx   \n",
       "4  NYC-Brooklyn Community District 14--Flatbush &...   4015  Brooklyn   \n",
       "\n",
       "   Population  totalHouseholds  CollegeStudents  Immigrants  Highschoolers  \\\n",
       "0      109810            41718            14443       16220           4460   \n",
       "1      144341            47817             6696       22155           8672   \n",
       "2      122417            47134             8736        8470           5463   \n",
       "3      129501            43954             8210       21900           7348   \n",
       "4      162030            57115            15391       28929           8529   \n",
       "\n",
       "   unemployed  avgHouseIncome  \n",
       "0        5242           81929  \n",
       "1        9502           61428  \n",
       "2        5492           72072  \n",
       "3        7863           62896  \n",
       "4        6843           69462  "
      ]
     },
     "execution_count": 154,
     "metadata": {},
     "output_type": "execute_result"
    }
   ],
   "source": [
    "pumaGDF.head()"
   ]
  },
  {
   "cell_type": "code",
   "execution_count": 155,
   "metadata": {},
   "outputs": [],
   "source": [
    "nighFile = \"combined/bars.shp\""
   ]
  },
  {
   "cell_type": "code",
   "execution_count": 156,
   "metadata": {},
   "outputs": [],
   "source": [
    "nightGDP = gpd.GeoDataFrame.from_file(nighFile)"
   ]
  },
  {
   "cell_type": "code",
   "execution_count": 157,
   "metadata": {},
   "outputs": [
    {
     "data": {
      "text/plain": [
       "{'init': u'epsg:4326'}"
      ]
     },
     "execution_count": 157,
     "metadata": {},
     "output_type": "execute_result"
    }
   ],
   "source": [
    "nightGDP.crs"
   ]
  },
  {
   "cell_type": "code",
   "execution_count": 158,
   "metadata": {},
   "outputs": [
    {
     "data": {
      "text/plain": [
       "2440"
      ]
     },
     "execution_count": 158,
     "metadata": {},
     "output_type": "execute_result"
    }
   ],
   "source": [
    "len(nightGDP)"
   ]
  },
  {
   "cell_type": "code",
   "execution_count": 159,
   "metadata": {},
   "outputs": [],
   "source": [
    "NightPuma = gpd.sjoin(pumasSHP, nightGDP, how='inner')"
   ]
  },
  {
   "cell_type": "code",
   "execution_count": 160,
   "metadata": {},
   "outputs": [
    {
     "data": {
      "text/plain": [
       "2440"
      ]
     },
     "execution_count": 160,
     "metadata": {},
     "output_type": "execute_result"
    }
   ],
   "source": [
    "len(NightPuma)"
   ]
  },
  {
   "cell_type": "code",
   "execution_count": 161,
   "metadata": {},
   "outputs": [],
   "source": [
    "NightPuma.drop(['Borough','geometry','name','Location T','Incident Z','City','index_right'],axis=1,inplace=True)"
   ]
  },
  {
   "cell_type": "code",
   "execution_count": 162,
   "metadata": {},
   "outputs": [
    {
     "data": {
      "text/html": [
       "<div>\n",
       "<style scoped>\n",
       "    .dataframe tbody tr th:only-of-type {\n",
       "        vertical-align: middle;\n",
       "    }\n",
       "\n",
       "    .dataframe tbody tr th {\n",
       "        vertical-align: top;\n",
       "    }\n",
       "\n",
       "    .dataframe thead th {\n",
       "        text-align: right;\n",
       "    }\n",
       "</style>\n",
       "<table border=\"1\" class=\"dataframe\">\n",
       "  <thead>\n",
       "    <tr style=\"text-align: right;\">\n",
       "      <th></th>\n",
       "      <th>puma</th>\n",
       "      <th>num_calls</th>\n",
       "      <th>price</th>\n",
       "      <th>rating</th>\n",
       "      <th>review_cou</th>\n",
       "    </tr>\n",
       "  </thead>\n",
       "  <tbody>\n",
       "    <tr>\n",
       "      <th>0</th>\n",
       "      <td>3701</td>\n",
       "      <td>10</td>\n",
       "      <td>2.0</td>\n",
       "      <td>4.0</td>\n",
       "      <td>222</td>\n",
       "    </tr>\n",
       "    <tr>\n",
       "      <th>0</th>\n",
       "      <td>3701</td>\n",
       "      <td>18</td>\n",
       "      <td>2.0</td>\n",
       "      <td>2.5</td>\n",
       "      <td>188</td>\n",
       "    </tr>\n",
       "    <tr>\n",
       "      <th>0</th>\n",
       "      <td>3701</td>\n",
       "      <td>56</td>\n",
       "      <td>2.0</td>\n",
       "      <td>2.5</td>\n",
       "      <td>188</td>\n",
       "    </tr>\n",
       "    <tr>\n",
       "      <th>0</th>\n",
       "      <td>3701</td>\n",
       "      <td>10</td>\n",
       "      <td>2.0</td>\n",
       "      <td>2.5</td>\n",
       "      <td>188</td>\n",
       "    </tr>\n",
       "    <tr>\n",
       "      <th>0</th>\n",
       "      <td>3701</td>\n",
       "      <td>50</td>\n",
       "      <td>NaN</td>\n",
       "      <td>5.0</td>\n",
       "      <td>15</td>\n",
       "    </tr>\n",
       "  </tbody>\n",
       "</table>\n",
       "</div>"
      ],
      "text/plain": [
       "   puma  num_calls  price  rating  review_cou\n",
       "0  3701         10    2.0     4.0         222\n",
       "0  3701         18    2.0     2.5         188\n",
       "0  3701         56    2.0     2.5         188\n",
       "0  3701         10    2.0     2.5         188\n",
       "0  3701         50    NaN     5.0          15"
      ]
     },
     "execution_count": 162,
     "metadata": {},
     "output_type": "execute_result"
    }
   ],
   "source": [
    "NightPuma.head()"
   ]
  },
  {
   "cell_type": "code",
   "execution_count": 163,
   "metadata": {},
   "outputs": [
    {
     "data": {
      "text/plain": [
       "1.9345971563981044"
      ]
     },
     "execution_count": 163,
     "metadata": {},
     "output_type": "execute_result"
    }
   ],
   "source": [
    "np.mean(NightPuma.price)"
   ]
  },
  {
   "cell_type": "code",
   "execution_count": 164,
   "metadata": {},
   "outputs": [],
   "source": [
    "NightPuma['price'] = NightPuma.price.fillna(2)"
   ]
  },
  {
   "cell_type": "code",
   "execution_count": 165,
   "metadata": {},
   "outputs": [],
   "source": [
    "## group by\n",
    "NP1 = NightPuma.groupby('puma').sum().reset_index()[['puma',\"num_calls\", \"review_cou\"]]\n",
    "NP2 = NightPuma.groupby('puma').mean().reset_index()[['puma',\"price\", \"rating\"]]\n",
    "NP = NP1.merge(NP2,left_on='puma', right_on='puma', how='inner')"
   ]
  },
  {
   "cell_type": "code",
   "execution_count": 166,
   "metadata": {},
   "outputs": [
    {
     "data": {
      "text/plain": [
       "55"
      ]
     },
     "execution_count": 166,
     "metadata": {},
     "output_type": "execute_result"
    }
   ],
   "source": [
    "len(NP)"
   ]
  },
  {
   "cell_type": "code",
   "execution_count": 167,
   "metadata": {},
   "outputs": [],
   "source": [
    "pumaGDF = pumaGDF.merge(NP,left_on='puma', right_on='puma', how='inner')"
   ]
  },
  {
   "cell_type": "code",
   "execution_count": null,
   "metadata": {},
   "outputs": [],
   "source": []
  },
  {
   "cell_type": "code",
   "execution_count": 168,
   "metadata": {},
   "outputs": [],
   "source": [
    "partyfile = \"yelpEvents/yelpEvents.shp\""
   ]
  },
  {
   "cell_type": "code",
   "execution_count": 169,
   "metadata": {},
   "outputs": [
    {
     "data": {
      "text/plain": [
       "{'init': u'epsg:4326'}"
      ]
     },
     "execution_count": 169,
     "metadata": {},
     "output_type": "execute_result"
    }
   ],
   "source": [
    "partGDF = gpd.GeoDataFrame.from_file(partyfile)\n",
    "partGDF.crs"
   ]
  },
  {
   "cell_type": "code",
   "execution_count": 170,
   "metadata": {},
   "outputs": [],
   "source": [
    "partyPuma = gpd.sjoin(pumasSHP, partGDF, how='left')"
   ]
  },
  {
   "cell_type": "code",
   "execution_count": 173,
   "metadata": {},
   "outputs": [],
   "source": [
    "#partyPuma= partyPuma[['puma','name']]\n",
    "#partyPuma.columns = ['puma','PartyCount']"
   ]
  },
  {
   "cell_type": "code",
   "execution_count": 174,
   "metadata": {},
   "outputs": [],
   "source": [
    "PP = partyPuma.groupby('puma').count().reset_index()[['puma',\"PartyCount\"]]"
   ]
  },
  {
   "cell_type": "code",
   "execution_count": 175,
   "metadata": {},
   "outputs": [
    {
     "data": {
      "text/html": [
       "<div>\n",
       "<style scoped>\n",
       "    .dataframe tbody tr th:only-of-type {\n",
       "        vertical-align: middle;\n",
       "    }\n",
       "\n",
       "    .dataframe tbody tr th {\n",
       "        vertical-align: top;\n",
       "    }\n",
       "\n",
       "    .dataframe thead th {\n",
       "        text-align: right;\n",
       "    }\n",
       "</style>\n",
       "<table border=\"1\" class=\"dataframe\">\n",
       "  <thead>\n",
       "    <tr style=\"text-align: right;\">\n",
       "      <th></th>\n",
       "      <th>puma</th>\n",
       "      <th>PartyCount</th>\n",
       "    </tr>\n",
       "  </thead>\n",
       "  <tbody>\n",
       "    <tr>\n",
       "      <th>0</th>\n",
       "      <td>3701</td>\n",
       "      <td>17</td>\n",
       "    </tr>\n",
       "    <tr>\n",
       "      <th>1</th>\n",
       "      <td>3702</td>\n",
       "      <td>1</td>\n",
       "    </tr>\n",
       "  </tbody>\n",
       "</table>\n",
       "</div>"
      ],
      "text/plain": [
       "   puma  PartyCount\n",
       "0  3701          17\n",
       "1  3702           1"
      ]
     },
     "execution_count": 175,
     "metadata": {},
     "output_type": "execute_result"
    }
   ],
   "source": [
    "PP.head(2)"
   ]
  },
  {
   "cell_type": "code",
   "execution_count": 176,
   "metadata": {},
   "outputs": [
    {
     "data": {
      "text/plain": [
       "55"
      ]
     },
     "execution_count": 176,
     "metadata": {},
     "output_type": "execute_result"
    }
   ],
   "source": [
    "len(PP)"
   ]
  },
  {
   "cell_type": "code",
   "execution_count": 177,
   "metadata": {},
   "outputs": [],
   "source": [
    "pumaGDF = pumaGDF.merge(PP,left_on='puma', right_on='puma', how='inner')"
   ]
  },
  {
   "cell_type": "code",
   "execution_count": 178,
   "metadata": {},
   "outputs": [
    {
     "data": {
      "text/html": [
       "<div>\n",
       "<style scoped>\n",
       "    .dataframe tbody tr th:only-of-type {\n",
       "        vertical-align: middle;\n",
       "    }\n",
       "\n",
       "    .dataframe tbody tr th {\n",
       "        vertical-align: top;\n",
       "    }\n",
       "\n",
       "    .dataframe thead th {\n",
       "        text-align: right;\n",
       "    }\n",
       "</style>\n",
       "<table border=\"1\" class=\"dataframe\">\n",
       "  <thead>\n",
       "    <tr style=\"text-align: right;\">\n",
       "      <th></th>\n",
       "      <th>puma</th>\n",
       "      <th>geometry</th>\n",
       "      <th>GeogName</th>\n",
       "      <th>GeoID</th>\n",
       "      <th>Borough</th>\n",
       "      <th>Population</th>\n",
       "      <th>totalHouseholds</th>\n",
       "      <th>CollegeStudents</th>\n",
       "      <th>Immigrants</th>\n",
       "      <th>Highschoolers</th>\n",
       "      <th>unemployed</th>\n",
       "      <th>avgHouseIncome</th>\n",
       "      <th>num_calls</th>\n",
       "      <th>review_cou</th>\n",
       "      <th>price</th>\n",
       "      <th>rating</th>\n",
       "      <th>PartyCount</th>\n",
       "    </tr>\n",
       "  </thead>\n",
       "  <tbody>\n",
       "    <tr>\n",
       "      <th>0</th>\n",
       "      <td>3701</td>\n",
       "      <td>POLYGON ((-73.89641133483133 40.90450452082026...</td>\n",
       "      <td>NYC-Bronx Community District 8--Riverdale, Fie...</td>\n",
       "      <td>3701</td>\n",
       "      <td>Bronx</td>\n",
       "      <td>109810</td>\n",
       "      <td>41718</td>\n",
       "      <td>14443</td>\n",
       "      <td>16220</td>\n",
       "      <td>4460</td>\n",
       "      <td>5242</td>\n",
       "      <td>81929</td>\n",
       "      <td>373</td>\n",
       "      <td>1162</td>\n",
       "      <td>1.578947</td>\n",
       "      <td>3.763158</td>\n",
       "      <td>17</td>\n",
       "    </tr>\n",
       "    <tr>\n",
       "      <th>1</th>\n",
       "      <td>3702</td>\n",
       "      <td>POLYGON ((-73.8442314689986 40.86942035096838,...</td>\n",
       "      <td>NYC-Bronx Community District 12--Wakefield, Wi...</td>\n",
       "      <td>3702</td>\n",
       "      <td>Bronx</td>\n",
       "      <td>144341</td>\n",
       "      <td>47817</td>\n",
       "      <td>6696</td>\n",
       "      <td>22155</td>\n",
       "      <td>8672</td>\n",
       "      <td>9502</td>\n",
       "      <td>61428</td>\n",
       "      <td>435</td>\n",
       "      <td>163</td>\n",
       "      <td>2.166667</td>\n",
       "      <td>2.638889</td>\n",
       "      <td>1</td>\n",
       "    </tr>\n",
       "    <tr>\n",
       "      <th>2</th>\n",
       "      <td>3703</td>\n",
       "      <td>(POLYGON ((-73.78833349834532 40.8346671297593...</td>\n",
       "      <td>NYC-Bronx Community District 10--Co-op City, P...</td>\n",
       "      <td>3703</td>\n",
       "      <td>Bronx</td>\n",
       "      <td>122417</td>\n",
       "      <td>47134</td>\n",
       "      <td>8736</td>\n",
       "      <td>8470</td>\n",
       "      <td>5463</td>\n",
       "      <td>5492</td>\n",
       "      <td>72072</td>\n",
       "      <td>799</td>\n",
       "      <td>2772</td>\n",
       "      <td>1.892857</td>\n",
       "      <td>3.625000</td>\n",
       "      <td>1</td>\n",
       "    </tr>\n",
       "    <tr>\n",
       "      <th>3</th>\n",
       "      <td>3704</td>\n",
       "      <td>POLYGON ((-73.84792614069238 40.8713422330779,...</td>\n",
       "      <td>NYC-Bronx Community District 11--Pelham Parkwa...</td>\n",
       "      <td>3704</td>\n",
       "      <td>Bronx</td>\n",
       "      <td>129501</td>\n",
       "      <td>43954</td>\n",
       "      <td>8210</td>\n",
       "      <td>21900</td>\n",
       "      <td>7348</td>\n",
       "      <td>7863</td>\n",
       "      <td>62896</td>\n",
       "      <td>69</td>\n",
       "      <td>513</td>\n",
       "      <td>2.000000</td>\n",
       "      <td>4.200000</td>\n",
       "      <td>0</td>\n",
       "    </tr>\n",
       "    <tr>\n",
       "      <th>4</th>\n",
       "      <td>4015</td>\n",
       "      <td>POLYGON ((-73.95374853778468 40.63858633758547...</td>\n",
       "      <td>NYC-Brooklyn Community District 14--Flatbush &amp;...</td>\n",
       "      <td>4015</td>\n",
       "      <td>Brooklyn</td>\n",
       "      <td>162030</td>\n",
       "      <td>57115</td>\n",
       "      <td>15391</td>\n",
       "      <td>28929</td>\n",
       "      <td>8529</td>\n",
       "      <td>6843</td>\n",
       "      <td>69462</td>\n",
       "      <td>367</td>\n",
       "      <td>3168</td>\n",
       "      <td>2.181818</td>\n",
       "      <td>3.818182</td>\n",
       "      <td>3</td>\n",
       "    </tr>\n",
       "  </tbody>\n",
       "</table>\n",
       "</div>"
      ],
      "text/plain": [
       "   puma                                           geometry  \\\n",
       "0  3701  POLYGON ((-73.89641133483133 40.90450452082026...   \n",
       "1  3702  POLYGON ((-73.8442314689986 40.86942035096838,...   \n",
       "2  3703  (POLYGON ((-73.78833349834532 40.8346671297593...   \n",
       "3  3704  POLYGON ((-73.84792614069238 40.8713422330779,...   \n",
       "4  4015  POLYGON ((-73.95374853778468 40.63858633758547...   \n",
       "\n",
       "                                            GeogName  GeoID   Borough  \\\n",
       "0  NYC-Bronx Community District 8--Riverdale, Fie...   3701     Bronx   \n",
       "1  NYC-Bronx Community District 12--Wakefield, Wi...   3702     Bronx   \n",
       "2  NYC-Bronx Community District 10--Co-op City, P...   3703     Bronx   \n",
       "3  NYC-Bronx Community District 11--Pelham Parkwa...   3704     Bronx   \n",
       "4  NYC-Brooklyn Community District 14--Flatbush &...   4015  Brooklyn   \n",
       "\n",
       "   Population  totalHouseholds  CollegeStudents  Immigrants  Highschoolers  \\\n",
       "0      109810            41718            14443       16220           4460   \n",
       "1      144341            47817             6696       22155           8672   \n",
       "2      122417            47134             8736        8470           5463   \n",
       "3      129501            43954             8210       21900           7348   \n",
       "4      162030            57115            15391       28929           8529   \n",
       "\n",
       "   unemployed  avgHouseIncome  num_calls  review_cou     price    rating  \\\n",
       "0        5242           81929        373        1162  1.578947  3.763158   \n",
       "1        9502           61428        435         163  2.166667  2.638889   \n",
       "2        5492           72072        799        2772  1.892857  3.625000   \n",
       "3        7863           62896         69         513  2.000000  4.200000   \n",
       "4        6843           69462        367        3168  2.181818  3.818182   \n",
       "\n",
       "   PartyCount  \n",
       "0          17  \n",
       "1           1  \n",
       "2           1  \n",
       "3           0  \n",
       "4           3  "
      ]
     },
     "execution_count": 178,
     "metadata": {},
     "output_type": "execute_result"
    }
   ],
   "source": [
    "pumaGDF.head()"
   ]
  },
  {
   "cell_type": "code",
   "execution_count": 180,
   "metadata": {},
   "outputs": [],
   "source": [
    "pumaGDF.to_file(\"allData/DataByPuma.shp\")"
   ]
  },
  {
   "cell_type": "code",
   "execution_count": 179,
   "metadata": {},
   "outputs": [
    {
     "data": {
      "text/plain": [
       "55"
      ]
     },
     "execution_count": 179,
     "metadata": {},
     "output_type": "execute_result"
    }
   ],
   "source": [
    "len(pumaGDF)"
   ]
  },
  {
   "cell_type": "code",
   "execution_count": null,
   "metadata": {},
   "outputs": [],
   "source": []
  }
 ],
 "metadata": {
  "kernelspec": {
   "display_name": "Python 2",
   "language": "python",
   "name": "python2"
  },
  "language_info": {
   "codemirror_mode": {
    "name": "ipython",
    "version": 2
   },
   "file_extension": ".py",
   "mimetype": "text/x-python",
   "name": "python",
   "nbconvert_exporter": "python",
   "pygments_lexer": "ipython2",
   "version": "2.7.15"
  }
 },
 "nbformat": 4,
 "nbformat_minor": 2
}
